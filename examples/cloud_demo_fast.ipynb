{
 "metadata": {
  "name": "Cloud Demo (fast)"
 },
 "nbformat": 3,
 "nbformat_minor": 0,
 "worksheets": [
  {
   "cells": [
    {
     "cell_type": "markdown",
     "metadata": {},
     "source": "# Step 0. Connect to IPython Cluster"
    },
    {
     "cell_type": "code",
     "collapsed": false,
     "input": "from IPython import parallel\nrc = parallel.Client(packer='pickle')\nview = rc.load_balanced_view()\nprint \"We have %i engines available\" % len(rc.ids)\n# skip cached results (for faster debugging)\nrc[:]['skip_cache'] = False",
     "language": "python",
     "metadata": {},
     "outputs": [
      {
       "output_type": "stream",
       "stream": "stdout",
       "text": "We have 16 engines available\n"
      }
     ],
     "prompt_number": 41
    },
    {
     "cell_type": "markdown",
     "metadata": {},
     "source": "A utility for monitoring progress while waiting on an AsyncResult:"
    },
    {
     "cell_type": "code",
     "collapsed": false,
     "input": "import sys\nfrom datetime import datetime\nfrom IPython.core.display import clear_output\n\ndef wait_on(ar):\n    N = len(ar.msg_ids)\n    rc = ar._client\n    submitted = rc.metadata[ar.msg_ids[0]]['submitted']\n\n    while not ar.ready():\n        ar.wait(1)\n        progress = sum([ msg_id not in rc.outstanding for msg_id in ar.msg_ids ])\n        dt = (datetime.now()-submitted).total_seconds()\n        clear_output()\n        print \"%3i/%3i tasks finished after %4i s\" % (progress, N, dt),\n        sys.stdout.flush()\n    print\n    print \"done\"",
     "language": "python",
     "metadata": {},
     "outputs": [],
     "prompt_number": 42
    },
    {
     "cell_type": "markdown",
     "metadata": {},
     "source": "# Step 1. Slice alignments"
    },
    {
     "cell_type": "code",
     "collapsed": false,
     "input": "base_region_boundaries = [\n      ('v2', 136, 1868), #27f-338r\n      ('v2.v3', 136, 2232),\n      ('v2.v4', 136, 4051),\n      ('v2.v6', 136, 4932),\n      ('v2.v8', 136, 6426),\n      ('v2.v9', 136, 6791),\n      ('v3', 1916, 2232), #349f-534r\n      ('v3.v4', 1916, 4051),\n      ('v3.v6', 1916, 4932),\n      ('v3.v8', 1916, 6426),\n      ('v3.v9', 1916, 6791),\n      ('v4', 2263, 4051), #515f-806r\n      ('v4.v6', 2263, 4932),\n      ('v4.v8', 2263, 6426),\n      ('v4.v9', 2263, 6791),\n      ('v6', 4653, 4932), #967f-1048r\n      ('v6.v8', 4653, 6426),\n      ('v6.v9', 4653, 6791),\n      ('v9', 6450, 6791), #1391f-1492r\n      ('full.length', 0, 7682),  # Start 150, 250, 400 base pair reads\n      ('v2.150', 136, 702),\n      ('v2.250', 136, 1752),\n      ('v2.v3.400', 136, 2036), # Skips reads that are larger than amplicon size\n      ('v3.v4.150', 1916, 2235),\n      ('v3.v4.250', 1916, 2493),\n      ('v3.v4.400', 1916, 4014),\n      ('v4.150', 2263, 3794),\n      ('v4.250', 2263, 4046),\n      ('v4.v6.400', 2263, 4574),\n      ('v6.v8.150', 4653, 5085),\n      ('v6.v8.250', 4653, 5903),\n      ('v6.v8.400', 4653, 6419)\n]\nprint \"%i regions, which we will break up into tasks to be done in parallel\" % len(base_region_boundaries)",
     "language": "python",
     "metadata": {},
     "outputs": [
      {
       "output_type": "stream",
       "stream": "stdout",
       "text": "32 regions, which we will break up into tasks to be done in parallel\n"
      }
     ],
     "prompt_number": 43
    },
    {
     "cell_type": "code",
     "collapsed": false,
     "input": "base_percentages = [82]\n\nseq_file_base = '/home/ubuntu/qiime_software/gg_otus-4feb2011-release/rep_set/gg_%i_otus_4feb2011_aligned.fasta'",
     "language": "python",
     "metadata": {},
     "outputs": [],
     "prompt_number": 44
    },
    {
     "cell_type": "markdown",
     "metadata": {},
     "source": "If we want to use multiple seq_files, that's a nested list:\n\n    sub_alignments = []\n    for seq_file in seq_files:\n        for region_boundary in region_boundaries:\n            sub_alignemnts.append(load_sub_alignment(seq_file, region_boundary)\n\nThis can actually be transformed into a flat list suitable for map with clever use of `itertools.product`:"
    },
    {
     "cell_type": "code",
     "collapsed": false,
     "input": "import itertools\nlist_of_tuples = itertools.product(base_percentages, base_region_boundaries)\npercentages, region_boundaries = zip(*list_of_tuples)\nseq_files = [seq_file_base % i for i in percentages]\nlabels = [ \"%i.%s\" % (p,rb[0]) for p,rb in zip(percentages, region_boundaries) ]\n\nntasks = len(region_boundaries)\nntasks",
     "language": "python",
     "metadata": {},
     "outputs": [
      {
       "output_type": "pyout",
       "prompt_number": 45,
       "text": "32"
      }
     ],
     "prompt_number": 45
    },
    {
     "cell_type": "markdown",
     "metadata": {},
     "source": "Loading data is an expensive operation.  This takes the most time, of any steps"
    },
    {
     "cell_type": "code",
     "collapsed": false,
     "input": "def load_sub_alignment(seq_file, region_boundary):\n    \"\"\"load subregion of data into new file\"\"\"\n    from cogent import LoadSeqs\n    from cogent.core.alignment import DenseAlignment\n    import os\n    id_, start, end = region_boundary\n    base, ext = os.path.splitext(os.path.basename(seq_file))\n    sub_fname = '/home/ubuntu/data/' + base + \"_%s\" % id_ + ext\n    if skip_cache and os.path.exists(sub_fname):\n        # skip if we've already generated it\n        return sub_fname\n    aln = LoadSeqs(seq_file, aligned=DenseAlignment)\n    sub_alignment = aln.takePositions(range(start, end))\n    sub_alignment.writeToFile(sub_fname)\n    return sub_fname",
     "language": "python",
     "metadata": {},
     "outputs": [],
     "prompt_number": 46
    },
    {
     "cell_type": "markdown",
     "metadata": {},
     "source": "Submit the loads to be done in parallel"
    },
    {
     "cell_type": "code",
     "collapsed": true,
     "input": "amr = load_amr = view.map_async(load_sub_alignment, seq_files, region_boundaries)",
     "language": "python",
     "metadata": {},
     "outputs": [],
     "prompt_number": 47
    },
    {
     "cell_type": "markdown",
     "metadata": {},
     "source": "Submission is asynchronous, and returns immediately.\n\nNow we wait for the computations to actually finish, returning the list of filenames for the subregions.\n\n**this will take time**"
    },
    {
     "cell_type": "code",
     "collapsed": false,
     "input": "wait_on(amr)\nsub_aligns = amr.get()\nsub_aligns",
     "language": "python",
     "metadata": {},
     "outputs": [
      {
       "output_type": "stream",
       "stream": "stdout",
       "text": "  32/ 32 tasks finished after  236 s"
      },
      {
       "output_type": "stream",
       "stream": "stdout",
       "text": "\ndone\n"
      },
      {
       "output_type": "pyout",
       "prompt_number": 48,
       "text": "['/home/ubuntu/data/gg_82_otus_4feb2011_aligned_v2.fasta',\n '/home/ubuntu/data/gg_82_otus_4feb2011_aligned_v2.v3.fasta',\n '/home/ubuntu/data/gg_82_otus_4feb2011_aligned_v2.v4.fasta',\n '/home/ubuntu/data/gg_82_otus_4feb2011_aligned_v2.v6.fasta',\n '/home/ubuntu/data/gg_82_otus_4feb2011_aligned_v2.v8.fasta',\n '/home/ubuntu/data/gg_82_otus_4feb2011_aligned_v2.v9.fasta',\n '/home/ubuntu/data/gg_82_otus_4feb2011_aligned_v3.fasta',\n '/home/ubuntu/data/gg_82_otus_4feb2011_aligned_v3.v4.fasta',\n '/home/ubuntu/data/gg_82_otus_4feb2011_aligned_v3.v6.fasta',\n '/home/ubuntu/data/gg_82_otus_4feb2011_aligned_v3.v8.fasta',\n '/home/ubuntu/data/gg_82_otus_4feb2011_aligned_v3.v9.fasta',\n '/home/ubuntu/data/gg_82_otus_4feb2011_aligned_v4.fasta',\n '/home/ubuntu/data/gg_82_otus_4feb2011_aligned_v4.v6.fasta',\n '/home/ubuntu/data/gg_82_otus_4feb2011_aligned_v4.v8.fasta',\n '/home/ubuntu/data/gg_82_otus_4feb2011_aligned_v4.v9.fasta',\n '/home/ubuntu/data/gg_82_otus_4feb2011_aligned_v6.fasta',\n '/home/ubuntu/data/gg_82_otus_4feb2011_aligned_v6.v8.fasta',\n '/home/ubuntu/data/gg_82_otus_4feb2011_aligned_v6.v9.fasta',\n '/home/ubuntu/data/gg_82_otus_4feb2011_aligned_v9.fasta',\n '/home/ubuntu/data/gg_82_otus_4feb2011_aligned_full.length.fasta',\n '/home/ubuntu/data/gg_82_otus_4feb2011_aligned_v2.150.fasta',\n '/home/ubuntu/data/gg_82_otus_4feb2011_aligned_v2.250.fasta',\n '/home/ubuntu/data/gg_82_otus_4feb2011_aligned_v2.v3.400.fasta',\n '/home/ubuntu/data/gg_82_otus_4feb2011_aligned_v3.v4.150.fasta',\n '/home/ubuntu/data/gg_82_otus_4feb2011_aligned_v3.v4.250.fasta',\n '/home/ubuntu/data/gg_82_otus_4feb2011_aligned_v3.v4.400.fasta',\n '/home/ubuntu/data/gg_82_otus_4feb2011_aligned_v4.150.fasta',\n '/home/ubuntu/data/gg_82_otus_4feb2011_aligned_v4.250.fasta',\n '/home/ubuntu/data/gg_82_otus_4feb2011_aligned_v4.v6.400.fasta',\n '/home/ubuntu/data/gg_82_otus_4feb2011_aligned_v6.v8.150.fasta',\n '/home/ubuntu/data/gg_82_otus_4feb2011_aligned_v6.v8.250.fasta',\n '/home/ubuntu/data/gg_82_otus_4feb2011_aligned_v6.v8.400.fasta']"
      }
     ],
     "prompt_number": 48
    },
    {
     "cell_type": "markdown",
     "metadata": {},
     "source": "Now let's take a quick peek at the overhead of performing this compuation with IPython"
    },
    {
     "cell_type": "code",
     "collapsed": false,
     "input": "def print_parallel_stats(ar):\n    \"\"\"print some performance info for a given AsyncResult\"\"\"\n    ar.wait()\n    serial = 0.\n    times = []\n    for start,stop in zip(ar.started, ar.completed):\n        elapsed = (stop-start).total_seconds()\n        times.append(elapsed)\n    longest = max(times)\n    serial = sum(times)\n    finished = max(ar.received)\n    submitted = min(ar.submitted)\n    wall = (finished - submitted).total_seconds()\n    \n    bar(range(len(times)), sorted(times))\n    xlim(0, ntasks)\n    ylabel(\"time (s)\")\n    title(\"min=%is                  max=%is\" % (min(times), max(times)))\n    \n    print \"ran %.1fs of work in %.1fs in %i tasks on %i engines\" % (serial, wall, len(ar.msg_ids), len(rc.ids))\n    print \"for a speedup of %.1fx\" % (serial/wall)\n    print \"longest task was %.1fs, which is the best we could hope to do.\" % (longest)\n    print \"IPython overhead: %ippm\" % (1e6*(wall-longest)/longest)",
     "language": "python",
     "metadata": {},
     "outputs": [],
     "prompt_number": 49
    },
    {
     "cell_type": "code",
     "collapsed": false,
     "input": "print_parallel_stats(load_amr)",
     "language": "python",
     "metadata": {},
     "outputs": [
      {
       "output_type": "stream",
       "stream": "stdout",
       "text": "ran 1397.5s of work in 236.3s in 32 tasks on 16 engines\nfor a speedup of 5.9x\nlongest task was 129.3s, which is the best we could hope to do.\nIPython overhead: 826950ppm\n"
      },
      {
       "output_type": "display_data",
       "png": "[encoded data removed]"
      }
     ],
     "prompt_number": 50
    },
    {
     "cell_type": "markdown",
     "metadata": {},
     "source": "# Step 2. Filter hypervariable positions and mostly gapped positions"
    },
    {
     "cell_type": "code",
     "collapsed": false,
     "input": "def filter_alignment(fname):\n    \"\"\"call out to subcommand, which filters the positions\"\"\"\n    import os\n    import subprocess\n    cmd = \"filter_alignment.py -i %s -e 0.1 -g 0.8 --suppress_lane_mask_filter -o /home/ubuntu/data/\" % fname\n    # RUN cmd\n    subprocess.call(cmd, shell=True)\n    base, ext = os.path.splitext(fname)\n    filtered = base + '_pfiltered' + ext\n    return filtered",
     "language": "python",
     "metadata": {},
     "outputs": [],
     "prompt_number": 51
    },
    {
     "cell_type": "markdown",
     "metadata": {},
     "source": "This one is quick, so we do it synchronously, but still in parallel:"
    },
    {
     "cell_type": "code",
     "collapsed": false,
     "input": "%time filtered = view.map_sync(filter_alignment, sub_aligns)",
     "language": "python",
     "metadata": {},
     "outputs": [
      {
       "output_type": "stream",
       "stream": "stdout",
       "text": "CPU times: user 0.51 s, sys: 0.07 s, total: 0.58 s\nWall time: 5.37 s\n"
      }
     ],
     "prompt_number": 52
    },
    {
     "cell_type": "markdown",
     "metadata": {},
     "source": "# Step 3. Build trees in parallel"
    },
    {
     "cell_type": "code",
     "collapsed": true,
     "input": "def build_tree(filtered_aln_fp):\n    \"\"\"build tree from a filtered alignment\"\"\"\n    import os\n    from cogent import LoadSeqs\n    from cogent.core.alignment import DenseAlignment\n    from cogent.app.fasttree import build_tree_from_alignment\n    from cogent import DNA\n    \n    tree_fp = '%s.tre' % os.path.splitext(filtered_aln_fp)[0]\n    if skip_cache and os.path.exists(tree_fp):\n        # skip already done\n        return tree_fp\n    tree = build_tree_from_alignment(LoadSeqs(filtered_aln_fp, aligned=DenseAlignment), moltype=DNA)\n    tree.writeToFile(tree_fp,with_distances=True)\n    return tree_fp",
     "language": "python",
     "metadata": {},
     "outputs": [],
     "prompt_number": 53
    },
    {
     "cell_type": "markdown",
     "metadata": {},
     "source": "This is the other step that takes some real time."
    },
    {
     "cell_type": "markdown",
     "metadata": {},
     "source": "**this will take time**"
    },
    {
     "cell_type": "code",
     "collapsed": false,
     "input": "amr = tree_amr = view.map_async(build_tree, filtered)",
     "language": "python",
     "metadata": {},
     "outputs": [],
     "prompt_number": 54
    },
    {
     "cell_type": "code",
     "collapsed": false,
     "input": "wait_on(amr)\ntrees = amr.get()",
     "language": "python",
     "metadata": {},
     "outputs": [
      {
       "output_type": "stream",
       "stream": "stdout",
       "text": "  32/ 32 tasks finished after  200 s"
      },
      {
       "output_type": "stream",
       "stream": "stdout",
       "text": "\ndone\n"
      }
     ],
     "prompt_number": 55
    },
    {
     "cell_type": "code",
     "collapsed": false,
     "input": "print_parallel_stats(tree_amr)",
     "language": "python",
     "metadata": {},
     "outputs": [
      {
       "output_type": "stream",
       "stream": "stdout",
       "text": "ran 1299.5s of work in 200.1s in 32 tasks on 16 engines\nfor a speedup of 6.5x\nlongest task was 100.7s, which is the best we could hope to do.\nIPython overhead: 986627ppm\n"
      },
      {
       "output_type": "display_data",
       "png": "[encoded data removed]"
      }
     ],
     "prompt_number": 56
    },
    {
     "cell_type": "markdown",
     "metadata": {},
     "source": "# Step 4. Compute distances between trees"
    },
    {
     "cell_type": "markdown",
     "metadata": {},
     "source": "`compare_trees()` computes the distance *submatrix* corresponding to a given tree."
    },
    {
     "cell_type": "code",
     "collapsed": false,
     "input": "def compare_trees(list_of_tree_files, i, nreps=50, sample_percent=0.1):\n    \"\"\"compute section of distance matrix for a single tree\"\"\"\n    from cogent.parse.tree import DndParser\n    from numpy import zeros, mean\n\n    trees = [DndParser(open(f)) for f in list_of_tree_files]\n    dist_mat = zeros((len(trees), len(trees)))\n    t1 = trees[i]\n    t1_ntips = len(t1.tips())\n    for dj,t2 in enumerate(trees[i+1:]):\n        j = i+dj+1\n        sample_size = int(round((min(t1_ntips, len(t2.tips())) * sample_percent)))\n        distances = [t1.compareByTipDistances(t2, sample=sample_size) for r in range(nreps)]\n        dist_mat[i,j] = mean(distances)\n        dist_mat[j,i] = mean(distances)\n    return dist_mat",
     "language": "python",
     "metadata": {},
     "outputs": [],
     "prompt_number": 57
    },
    {
     "cell_type": "markdown",
     "metadata": {},
     "source": "For instance, the distance elements for the third-to-last tree:"
    },
    {
     "cell_type": "code",
     "collapsed": false,
     "input": "%precision 3\ncompare_trees(trees, ntasks-3)",
     "language": "python",
     "metadata": {},
     "outputs": [
      {
       "output_type": "pyout",
       "prompt_number": 58,
       "text": "array([[ 0.   ,  0.   ,  0.   , ...,  0.   ,  0.   ,  0.   ],\n       [ 0.   ,  0.   ,  0.   , ...,  0.   ,  0.   ,  0.   ],\n       [ 0.   ,  0.   ,  0.   , ...,  0.   ,  0.   ,  0.   ],\n       ..., \n       [ 0.   ,  0.   ,  0.   , ...,  0.   ,  0.087,  0.132],\n       [ 0.   ,  0.   ,  0.   , ...,  0.087,  0.   ,  0.   ],\n       [ 0.   ,  0.   ,  0.   , ...,  0.132,  0.   ,  0.   ]])"
      }
     ],
     "prompt_number": 58
    },
    {
     "cell_type": "markdown",
     "metadata": {},
     "source": "We can then compute these submatrices in parallel"
    },
    {
     "cell_type": "code",
     "collapsed": false,
     "input": "map_trees = [trees]*ntasks\namr = view.map_async(compare_trees, map_trees, range(ntasks)[::-1], ordered=False)",
     "language": "python",
     "metadata": {},
     "outputs": [],
     "prompt_number": 59
    },
    {
     "cell_type": "markdown",
     "metadata": {},
     "source": "And compute the final distance matrix by perorming a sum (via builtin `reduce()`)"
    },
    {
     "cell_type": "markdown",
     "metadata": {},
     "source": "**this will take the most time**"
    },
    {
     "cell_type": "code",
     "collapsed": false,
     "input": "def _print_progress(ar):\n    N = len(ar.msg_ids)\n    rc = ar._client\n    submitted = rc.metadata[ar.msg_ids[0]]['submitted']\n    progress = sum([ msg_id not in rc.outstanding for msg_id in ar.msg_ids ])\n    dt = (datetime.now()-submitted).total_seconds()\n    clear_output()\n    print \"%4i/%3i tasks finished after %4i s\" % (progress, N, dt),\n    sys.stdout.flush()\n    \ndef progress_sum(a,b):\n    c = a+b\n    _print_progress(amr)\n    return c\n\ndist_mat = reduce(progress_sum, amr, 0)\ndist_mat.tofile('/home/ubuntu/data/dist_mat_fast.np')",
     "language": "python",
     "metadata": {},
     "outputs": [
      {
       "output_type": "stream",
       "stream": "stdout",
       "text": "   32/ 32 tasks finished after  174 s"
      },
      {
       "output_type": "stream",
       "stream": "stdout",
       "text": "\n"
      }
     ],
     "prompt_number": 60
    },
    {
     "cell_type": "markdown",
     "metadata": {},
     "source": "Now we can peek at the distance matrix, to see if there is anything interesting."
    },
    {
     "cell_type": "code",
     "collapsed": true,
     "input": "# Uncomment here to load dist_mat from cache, to regenerate plots\n# import numpy\n# dist_mat = numpy.fromfile('/home/ubuntu/data/dist_mat.np').reshape(ntasks,ntasks)",
     "language": "python",
     "metadata": {},
     "outputs": [],
     "prompt_number": 61
    },
    {
     "cell_type": "code",
     "collapsed": false,
     "input": "pcolor(dist_mat)\nxlim(0,ntasks)\nylim(0,ntasks)\ncolorbar()",
     "language": "python",
     "metadata": {},
     "outputs": [
      {
       "output_type": "pyout",
       "prompt_number": 62,
       "text": "<matplotlib.colorbar.Colorbar instance at 0x7fd8b47161b8>"
      },
      {
       "output_type": "display_data",
       "png": "[encoded data removed]"
      }
     ],
     "prompt_number": 62
    },
    {
     "cell_type": "markdown",
     "metadata": {},
     "source": "Write QIIME's distance matrix format"
    },
    {
     "cell_type": "code",
     "collapsed": false,
     "input": "from qiime.format import format_distance_matrix\n\nopen('/home/ubuntu/data/distance_matrix_fast.txt','w').write(format_distance_matrix(labels,dist_mat))",
     "language": "python",
     "metadata": {},
     "outputs": [],
     "prompt_number": 63
    },
    {
     "cell_type": "markdown",
     "metadata": {},
     "source": "# Step 5. Compute PCoA: QIIME/PyCogent"
    },
    {
     "cell_type": "code",
     "collapsed": false,
     "input": "!principal_coordinates.py -i /home/ubuntu/data/distance_matrix_fast.txt -o /home/ubuntu/data/pc_fast.txt",
     "language": "python",
     "metadata": {},
     "outputs": [],
     "prompt_number": 64
    },
    {
     "cell_type": "markdown",
     "metadata": {},
     "source": "# Step 6. Display PCoA: QIIME"
    },
    {
     "cell_type": "markdown",
     "metadata": {},
     "source": "This generates an HTML file and java visualization for the data. To do this we need one additional file: tree_metadata.txt. You can view this file directly <a href=\"http://qiime.org/home_static/nih-cloud-apr2012/tree_metadata.txt\">here</a>."
    },
    {
     "cell_type": "code",
     "collapsed": false,
     "input": "!wget http://qiime.org/home_static/nih-cloud-apr2012/tree_metadata.txt",
     "language": "python",
     "metadata": {},
     "outputs": [
      {
       "output_type": "stream",
       "stream": "stdout",
       "text": "--2012-08-06 22:20:12--  http://qiime.org/home_static/nih-cloud-apr2012/tree_metadata.txt\r\nResolving qiime.org... 216.34.181.97\r\nConnecting to qiime.org|216.34.181.97|:80... connected.\r\nHTTP request sent, awaiting response... "
      },
      {
       "output_type": "stream",
       "stream": "stdout",
       "text": "200 OK\r\nLength: 9313 (9.1K) [text/plain]\r\nSaving to: `tree_metadata.txt'\r\n\r\n\r 0% [                                       ] 0           --.-K/s              \r100%[======================================>] 9,313       --.-K/s   in 0.02s   \r\n\r\n2012-08-06 22:20:13 (393 KB/s) - `tree_metadata.txt' saved [9313/9313]\r\n\r\n"
      }
     ],
     "prompt_number": 65
    },
    {
     "cell_type": "markdown",
     "metadata": {},
     "source": "We can then generate 3D PCoA plots."
    },
    {
     "cell_type": "code",
     "collapsed": true,
     "input": "!make_3d_plots.py -i /home/ubuntu/data/pc_fast.txt -o /home/ubuntu/data/pcoa_plots/ -m /home/ubuntu/tree_metadata.txt",
     "language": "python",
     "metadata": {},
     "outputs": [],
     "prompt_number": 69
    },
    {
     "cell_type": "markdown",
     "metadata": {},
     "source": "And the notebook simply serves these files up in `/files`, so we can visit the visualization <a href=\"/files/data/pcoa_plots/pc_fast_3D_PCoA_plots.html\" target=_blank>directly</a>\n\n**NOTE**: The above link is not static: to view the plot, you must run the notebook. "
    }
   ],
   "metadata": {}
  }
 ]
}