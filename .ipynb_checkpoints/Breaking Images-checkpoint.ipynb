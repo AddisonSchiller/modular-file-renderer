{
 "metadata": {
  "name": ""
 },
 "nbformat": 3,
 "nbformat_minor": 0,
 "worksheets": [
  {
   "cells": [
    {
     "cell_type": "code",
     "collapsed": false,
     "input": [
      "from PIL import Image\n",
      "from cStringIO import StringIO\n",
      "\n",
      "# things you need\n",
      "# %prun\n",
      "# %time\n",
      "bmp_data = open('examples/test.bmp','rb').read(32)\n",
      "print \"bmp: \"\n",
      "print bmp_data[:2]\n",
      "\n",
      "png_data = open('examples/test.png','rb').read(32)\n",
      "print \"png: \"\n",
      "print png_data[:8]\n",
      "\n",
      "jpg_data = open('examples/test.jpg','rb').read(32)\n",
      "print \"jpg: \"\n",
      "print jpg_data[6:10]\n"
     ],
     "language": "python",
     "metadata": {},
     "outputs": [
      {
       "output_type": "stream",
       "stream": "stdout",
       "text": [
        "bmp: \n",
        "BANDS = 1\n",
        "BAND_STORAGE_TYPE = BA\n",
        "png: \n",
        "\ufffdPNG\r\n",
        "\u001a\n",
        "\u0000\u0000\u0000\r",
        "IHDR\u0000\u0000\u0005\ufffd\u0000\u0000\u0003\ufffd\b\u0002\u0000\u0000\u0000\ufffd/\u0001\n",
        "jpg: \n",
        "JFIF\n"
       ]
      }
     ],
     "prompt_number": 23
    },
    {
     "cell_type": "code",
     "collapsed": false,
     "input": [],
     "language": "python",
     "metadata": {},
     "outputs": [],
     "prompt_number": 23
    },
    {
     "cell_type": "code",
     "collapsed": false,
     "input": [
      "\n"
     ],
     "language": "python",
     "metadata": {},
     "outputs": []
    }
   ],
   "metadata": {}
  }
 ]
}