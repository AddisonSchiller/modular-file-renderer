{
 "metadata": {
  "name": ""
 },
 "nbformat": 3,
 "nbformat_minor": 0,
 "worksheets": [
  {
   "cells": [
    {
     "cell_type": "code",
     "collapsed": false,
     "input": [
      "import rpy2.robjects as robjects\n",
      "import pandas as pd\n",
      "import pandas.rpy.common as com\n",
      "from os import chdir\n",
      "chdir(\"/Users/Alex/Desktop\")\n",
      "\n",
      "r = robjects\n",
      "r.r(\"require(foreign)\")\n",
      "r.r('x <- read.spss(\"{}\",to.data.frame=T)'.format(\"data.sav\"))\n",
      "z = com.load_data('x')\n",
      "print z\n",
      "z.head()"
     ],
     "language": "python",
     "metadata": {},
     "outputs": [
      {
       "output_type": "stream",
       "stream": "stdout",
       "text": [
        "Loading required package: foreign\n",
        "     ID          DAY       TIME MORNING  GRADE       WORK     TRAINING    ZGRADE\n",
        "1  4593   Tues/Thurs  Afternoon      No     85         No     Training  0.904420\n",
        "2  1901  Mon/Wed/Fri    Morning     Yes     83  Part Time     Training  0.523612\n",
        "3  8734   Tues/Thurs    Morning      No     80         No  No Training -0.047601\n",
        "4  1909  Mon/Wed/Fri    Morning     Yes     73  Part Time  No Training -1.380431"
       ]
      },
      {
       "output_type": "stream",
       "stream": "stdout",
       "text": [
        "\n"
       ]
      },
      {
       "html": [
        "<div style=\"max-height:1000px;max-width:1500px;overflow:auto;\">\n",
        "<table border=\"1\" class=\"dataframe\">\n",
        "  <thead>\n",
        "    <tr style=\"text-align: right;\">\n",
        "      <th></th>\n",
        "      <th>ID</th>\n",
        "      <th>DAY</th>\n",
        "      <th>TIME</th>\n",
        "      <th>MORNING</th>\n",
        "      <th>GRADE</th>\n",
        "      <th>WORK</th>\n",
        "      <th>TRAINING</th>\n",
        "      <th>ZGRADE</th>\n",
        "    </tr>\n",
        "  </thead>\n",
        "  <tbody>\n",
        "    <tr>\n",
        "      <th>1</th>\n",
        "      <td> 4593</td>\n",
        "      <td>  Tues/Thurs</td>\n",
        "      <td> Afternoon</td>\n",
        "      <td>  No</td>\n",
        "      <td> 85</td>\n",
        "      <td>        No</td>\n",
        "      <td>    Training</td>\n",
        "      <td> 0.904420</td>\n",
        "    </tr>\n",
        "    <tr>\n",
        "      <th>2</th>\n",
        "      <td> 1901</td>\n",
        "      <td> Mon/Wed/Fri</td>\n",
        "      <td>   Morning</td>\n",
        "      <td> Yes</td>\n",
        "      <td> 83</td>\n",
        "      <td> Part Time</td>\n",
        "      <td>    Training</td>\n",
        "      <td> 0.523612</td>\n",
        "    </tr>\n",
        "    <tr>\n",
        "      <th>3</th>\n",
        "      <td> 8734</td>\n",
        "      <td>  Tues/Thurs</td>\n",
        "      <td>   Morning</td>\n",
        "      <td>  No</td>\n",
        "      <td> 80</td>\n",
        "      <td>        No</td>\n",
        "      <td> No Training</td>\n",
        "      <td>-0.047601</td>\n",
        "    </tr>\n",
        "    <tr>\n",
        "      <th>4</th>\n",
        "      <td> 1909</td>\n",
        "      <td> Mon/Wed/Fri</td>\n",
        "      <td>   Morning</td>\n",
        "      <td> Yes</td>\n",
        "      <td> 73</td>\n",
        "      <td> Part Time</td>\n",
        "      <td> No Training</td>\n",
        "      <td>-1.380431</td>\n",
        "    </tr>\n",
        "  </tbody>\n",
        "</table>\n",
        "</div>"
       ],
       "metadata": {},
       "output_type": "pyout",
       "prompt_number": 1,
       "text": [
        "     ID          DAY       TIME MORNING  GRADE       WORK     TRAINING    ZGRADE\n",
        "1  4593   Tues/Thurs  Afternoon      No     85         No     Training  0.904420\n",
        "2  1901  Mon/Wed/Fri    Morning     Yes     83  Part Time     Training  0.523612\n",
        "3  8734   Tues/Thurs    Morning      No     80         No  No Training -0.047601\n",
        "4  1909  Mon/Wed/Fri    Morning     Yes     73  Part Time  No Training -1.380431"
       ]
      }
     ],
     "prompt_number": 1
    },
    {
     "cell_type": "code",
     "collapsed": false,
     "input": [],
     "language": "python",
     "metadata": {},
     "outputs": []
    }
   ],
   "metadata": {}
  }
 ]
}