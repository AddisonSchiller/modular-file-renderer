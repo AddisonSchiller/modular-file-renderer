{
 "metadata": {
  "name": ""
 },
 "nbformat": 3,
 "nbformat_minor": 0,
 "worksheets": [
  {
   "cells": [
    {
     "cell_type": "code",
     "collapsed": false,
     "input": [
      "from cStringIO import StringIO\n",
      "import pandas as pd\n",
      "import csv\n",
      "import sys\n",
      "import collections\n",
      "import time\n",
      "import os\n",
      "import json\n",
      "\n",
      "def column_population(data):\n",
      "    \"\"\"make column headers from the keys in dataframe\n",
      "    :param data:\n",
      "    :return: a list of dictionaries\n",
      "    \"\"\"\n",
      "    fields = data.keys()\n",
      "    columns = [{'id': k, 'name': k, 'field': k, } for k in fields]\n",
      "    return columns\n",
      "\n",
      "\n",
      "def dict_uni_to_str(data):\n",
      "    if isinstance(data, basestring):\n",
      "        return str(data)\n",
      "    elif isinstance(data, collections.Mapping):\n",
      "        return dict(map(dict_uni_to_str, data.iteritems()))\n",
      "    elif isinstance(data, collections.Iterable):\n",
      "        return type(data)(map(dict_uni_to_str, data))\n",
      "    else:\n",
      "        return data\n",
      "\n",
      "\n",
      "def row_population(data):\n",
      "    \"\"\"Convert the dictionary of lists Pandas has generated from the CSV into\n",
      "    a list of dicts.\n",
      "    :param data:\n",
      "    :return: JSON representation of rows\n",
      "    \"\"\"\n",
      "    #todo this needs to be reformatted NOT to use the row names as a variable to iterate over, this will break spss files that need rownames\n",
      "    #todo right now it is renaming the rows in [r] when it reads it in\n",
      "    fields = data.keys()\n",
      "    num_rows = len(data[fields[0]])\n",
      "    json_list = []\n",
      "    for i in range(num_rows):\n",
      "        json_list.append({})\n",
      "        for k in fields:\n",
      "            json_list[i][k] = str(data[k][i])\n",
      "    return json.dumps(json_list)\n",
      "\n",
      "def render(data):\n",
      "\n",
      "    columns = column_population(data)\n",
      "    for i, item in enumerate(columns):\n",
      "        columns[i] = dict_uni_to_str(item)\n",
      "    rows = row_population(data)\n",
      "    return \"\"\n",
      "\n",
      "myfile = open(\"10.csv\", 'wb')\n",
      "wr = csv.writer(myfile)\n",
      "\n",
      "x = 100\n",
      "times = []\n",
      "while x <=1000:\n",
      "    z = 1\n",
      "    while z<x:\n",
      "        wr.writerows([\"0\"]*x)\n",
      "        z +=1\n",
      "    t0 = time.time()\n",
      "    %prun render(pd.read_csv(\"10.csv\"))\n",
      "    elapsed = time.time() - t0\n",
      "    times.append((x,elapsed))\n",
      "    x +=100\n",
      "    wr = open(\"10.csv\", \"w+\")\n",
      "    wr.close()\n",
      "    myfile = open(\"10.csv\", 'wb')\n",
      "    wr = csv.writer(myfile)\n",
      "\n",
      "print times"
     ],
     "language": "python",
     "metadata": {},
     "outputs": [
      {
       "output_type": "stream",
       "stream": "stdout",
       "text": [
        " "
       ]
      },
      {
       "output_type": "stream",
       "stream": "stdout",
       "text": [
        " "
       ]
      },
      {
       "output_type": "stream",
       "stream": "stdout",
       "text": [
        " "
       ]
      },
      {
       "output_type": "stream",
       "stream": "stdout",
       "text": [
        " "
       ]
      },
      {
       "output_type": "stream",
       "stream": "stdout",
       "text": [
        " "
       ]
      },
      {
       "output_type": "stream",
       "stream": "stdout",
       "text": [
        " "
       ]
      },
      {
       "output_type": "stream",
       "stream": "stdout",
       "text": [
        " "
       ]
      },
      {
       "output_type": "stream",
       "stream": "stdout",
       "text": [
        " "
       ]
      },
      {
       "output_type": "stream",
       "stream": "stdout",
       "text": [
        " "
       ]
      },
      {
       "output_type": "stream",
       "stream": "stdout",
       "text": [
        " [(100, 0.4068779945373535), (200, 1.533430814743042), (300, 3.326408863067627), (400, 5.936573028564453), (500, 9.275766134262085), (600, 13.442032098770142), (700, 18.776864051818848), (800, 24.039922952651978), (900, 30.202445030212402), (1000, 38.505943059921265)]\n"
       ]
      }
     ],
     "prompt_number": 63
    },
    {
     "cell_type": "code",
     "collapsed": false,
     "input": [
      "print 'lol'"
     ],
     "language": "python",
     "metadata": {},
     "outputs": [
      {
       "output_type": "stream",
       "stream": "stdout",
       "text": [
        "lol\n"
       ]
      }
     ],
     "prompt_number": 51
    },
    {
     "cell_type": "code",
     "collapsed": false,
     "input": [
      "import this"
     ],
     "language": "python",
     "metadata": {},
     "outputs": [
      {
       "output_type": "stream",
       "stream": "stdout",
       "text": [
        "The Zen of Python, by Tim Peters\n",
        "\n",
        "Beautiful is better than ugly.\n",
        "Explicit is better than implicit.\n",
        "Simple is better than complex.\n",
        "Complex is better than complicated.\n",
        "Flat is better than nested.\n",
        "Sparse is better than dense.\n",
        "Readability counts.\n",
        "Special cases aren't special enough to break the rules.\n",
        "Although practicality beats purity.\n",
        "Errors should never pass silently.\n",
        "Unless explicitly silenced.\n",
        "In the face of ambiguity, refuse the temptation to guess.\n",
        "There should be one-- and preferably only one --obvious way to do it.\n",
        "Although that way may not be obvious at first unless you're Dutch.\n",
        "Now is better than never.\n",
        "Although never is often better than *right* now.\n",
        "If the implementation is hard to explain, it's a bad idea.\n",
        "If the implementation is easy to explain, it may be a good idea.\n",
        "Namespaces are one honking great idea -- let's do more of those!\n"
       ]
      }
     ],
     "prompt_number": 3
    },
    {
     "cell_type": "code",
     "collapsed": false,
     "input": [],
     "language": "python",
     "metadata": {},
     "outputs": [],
     "prompt_number": 8
    },
    {
     "cell_type": "code",
     "collapsed": false,
     "input": [],
     "language": "python",
     "metadata": {},
     "outputs": [],
     "prompt_number": 8
    },
    {
     "cell_type": "code",
     "collapsed": false,
     "input": [],
     "language": "python",
     "metadata": {},
     "outputs": []
    }
   ],
   "metadata": {}
  }
 ]
}